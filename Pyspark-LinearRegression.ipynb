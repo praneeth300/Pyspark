{
 "cells": [
  {
   "cell_type": "markdown",
   "metadata": {},
   "source": [
    "### Pyspark\n",
    "#### Linear Regression"
   ]
  },
  {
   "cell_type": "code",
   "execution_count": 0,
   "metadata": {
    "application/vnd.databricks.v1+cell": {
     "inputWidgets": {},
     "nuid": "f4fd0b21-f661-468a-871f-3e6dfdcacdfb",
     "showTitle": false,
     "title": ""
    }
   },
   "outputs": [
    {
     "data": {
      "text/html": [
       "<style scoped>\n",
       "  .ansiout {\n",
       "    display: block;\n",
       "    unicode-bidi: embed;\n",
       "    white-space: pre-wrap;\n",
       "    word-wrap: break-word;\n",
       "    word-break: break-all;\n",
       "    font-family: \"Source Code Pro\", \"Menlo\", monospace;;\n",
       "    font-size: 13px;\n",
       "    color: #555;\n",
       "    margin-left: 4px;\n",
       "    line-height: 19px;\n",
       "  }\n",
       "</style>\n",
       "<div class=\"ansiout\"></div>"
      ]
     },
     "metadata": {
      "application/vnd.databricks.v1+output": {
       "addedWidgets": {},
       "arguments": {},
       "data": "<div class=\"ansiout\"></div>",
       "datasetInfos": [],
       "removedWidgets": [],
       "type": "html"
      }
     },
     "output_type": "display_data"
    }
   ],
   "source": [
    "#Import the libraries\n",
    "import pyspark\n",
    "from pyspark.sql import SparkSession\n",
    "from pyspark.ml.feature import VectorAssembler\n",
    "from pyspark.ml.regression import LinearRegression"
   ]
  },
  {
   "cell_type": "code",
   "execution_count": 0,
   "metadata": {
    "application/vnd.databricks.v1+cell": {
     "inputWidgets": {},
     "nuid": "7570bc7e-81b0-4c58-8879-0caaca77de3a",
     "showTitle": false,
     "title": ""
    }
   },
   "outputs": [
    {
     "data": {
      "text/html": [
       "<style scoped>\n",
       "  .ansiout {\n",
       "    display: block;\n",
       "    unicode-bidi: embed;\n",
       "    white-space: pre-wrap;\n",
       "    word-wrap: break-word;\n",
       "    word-break: break-all;\n",
       "    font-family: \"Source Code Pro\", \"Menlo\", monospace;;\n",
       "    font-size: 13px;\n",
       "    color: #555;\n",
       "    margin-left: 4px;\n",
       "    line-height: 19px;\n",
       "  }\n",
       "</style>\n",
       "<div class=\"ansiout\"></div>"
      ]
     },
     "metadata": {
      "application/vnd.databricks.v1+output": {
       "addedWidgets": {},
       "arguments": {},
       "data": "<div class=\"ansiout\"></div>",
       "datasetInfos": [],
       "removedWidgets": [],
       "type": "html"
      }
     },
     "output_type": "display_data"
    }
   ],
   "source": [
    "#Load and read dataset\n",
    "df1 = spark.read.format(\"csv\").load(\"dbfs:/FileStore/shared_uploads/praneethsanthosh555@gmail.com/Admission_Prediction.csv\",header=True)"
   ]
  },
  {
   "cell_type": "code",
   "execution_count": 0,
   "metadata": {
    "application/vnd.databricks.v1+cell": {
     "inputWidgets": {},
     "nuid": "37317f75-d024-4f9e-995e-cf01d4a2ca6f",
     "showTitle": false,
     "title": ""
    }
   },
   "outputs": [
    {
     "data": {
      "text/html": [
       "<style scoped>\n",
       "  .ansiout {\n",
       "    display: block;\n",
       "    unicode-bidi: embed;\n",
       "    white-space: pre-wrap;\n",
       "    word-wrap: break-word;\n",
       "    word-break: break-all;\n",
       "    font-family: \"Source Code Pro\", \"Menlo\", monospace;;\n",
       "    font-size: 13px;\n",
       "    color: #555;\n",
       "    margin-left: 4px;\n",
       "    line-height: 19px;\n",
       "  }\n",
       "</style>\n",
       "<div class=\"ansiout\">+---------+-----------+-----------------+----+----+----+--------+---------------+\n",
       "GRE Score|TOEFL Score|University Rating| SOP| LOR|CGPA|Research|Chance of Admit|\n",
       "+---------+-----------+-----------------+----+----+----+--------+---------------+\n",
       "   337.00|     118.00|                4|4.50|4.50|9.65|    1.00|           0.92|\n",
       "   324.00|     107.00|                4|4.00|4.50|8.87|    1.00|           0.76|\n",
       "     null|     104.00|                3|3.00|3.50|8.00|    1.00|           0.72|\n",
       "   322.00|     110.00|                3|3.50|2.50|8.67|    1.00|           0.80|\n",
       "   314.00|     103.00|                2|2.00|3.00|8.21|    0.00|           0.65|\n",
       "+---------+-----------+-----------------+----+----+----+--------+---------------+\n",
       "only showing top 5 rows\n",
       "\n",
       "</div>"
      ]
     },
     "metadata": {
      "application/vnd.databricks.v1+output": {
       "addedWidgets": {},
       "arguments": {},
       "data": "<div class=\"ansiout\">+---------+-----------+-----------------+----+----+----+--------+---------------+\n|GRE Score|TOEFL Score|University Rating| SOP| LOR|CGPA|Research|Chance of Admit|\n+---------+-----------+-----------------+----+----+----+--------+---------------+\n|   337.00|     118.00|                4|4.50|4.50|9.65|    1.00|           0.92|\n|   324.00|     107.00|                4|4.00|4.50|8.87|    1.00|           0.76|\n|     null|     104.00|                3|3.00|3.50|8.00|    1.00|           0.72|\n|   322.00|     110.00|                3|3.50|2.50|8.67|    1.00|           0.80|\n|   314.00|     103.00|                2|2.00|3.00|8.21|    0.00|           0.65|\n+---------+-----------+-----------------+----+----+----+--------+---------------+\nonly showing top 5 rows\n\n</div>",
       "datasetInfos": [],
       "removedWidgets": [],
       "type": "html"
      }
     },
     "output_type": "display_data"
    }
   ],
   "source": [
    "#Show the dataset\n",
    "df1.show(5)"
   ]
  },
  {
   "cell_type": "code",
   "execution_count": 0,
   "metadata": {
    "application/vnd.databricks.v1+cell": {
     "inputWidgets": {},
     "nuid": "98df471d-a303-4c41-9fc2-6117344a403b",
     "showTitle": false,
     "title": ""
    }
   },
   "outputs": [
    {
     "data": {
      "text/html": [
       "<style scoped>\n",
       "  .ansiout {\n",
       "    display: block;\n",
       "    unicode-bidi: embed;\n",
       "    white-space: pre-wrap;\n",
       "    word-wrap: break-word;\n",
       "    word-break: break-all;\n",
       "    font-family: \"Source Code Pro\", \"Menlo\", monospace;;\n",
       "    font-size: 13px;\n",
       "    color: #555;\n",
       "    margin-left: 4px;\n",
       "    line-height: 19px;\n",
       "  }\n",
       "</style>\n",
       "<div class=\"ansiout\">root\n",
       "-- GRE Score: string (nullable = true)\n",
       "-- TOEFL Score: string (nullable = true)\n",
       "-- University Rating: string (nullable = true)\n",
       "-- SOP: string (nullable = true)\n",
       "-- LOR: string (nullable = true)\n",
       "-- CGPA: string (nullable = true)\n",
       "-- Research: string (nullable = true)\n",
       "-- Chance of Admit: string (nullable = true)\n",
       "\n",
       "</div>"
      ]
     },
     "metadata": {
      "application/vnd.databricks.v1+output": {
       "addedWidgets": {},
       "arguments": {},
       "data": "<div class=\"ansiout\">root\n |-- GRE Score: string (nullable = true)\n |-- TOEFL Score: string (nullable = true)\n |-- University Rating: string (nullable = true)\n |-- SOP: string (nullable = true)\n |-- LOR: string (nullable = true)\n |-- CGPA: string (nullable = true)\n |-- Research: string (nullable = true)\n |-- Chance of Admit: string (nullable = true)\n\n</div>",
       "datasetInfos": [],
       "removedWidgets": [],
       "type": "html"
      }
     },
     "output_type": "display_data"
    }
   ],
   "source": [
    "df1.printSchema()"
   ]
  },
  {
   "cell_type": "code",
   "execution_count": 0,
   "metadata": {
    "application/vnd.databricks.v1+cell": {
     "inputWidgets": {},
     "nuid": "98a14f18-08ea-40d9-8ac8-8a21428cc7ef",
     "showTitle": false,
     "title": ""
    }
   },
   "outputs": [
    {
     "data": {
      "text/html": [
       "<style scoped>\n",
       "  .ansiout {\n",
       "    display: block;\n",
       "    unicode-bidi: embed;\n",
       "    white-space: pre-wrap;\n",
       "    word-wrap: break-word;\n",
       "    word-break: break-all;\n",
       "    font-family: \"Source Code Pro\", \"Menlo\", monospace;;\n",
       "    font-size: 13px;\n",
       "    color: #555;\n",
       "    margin-left: 4px;\n",
       "    line-height: 19px;\n",
       "  }\n",
       "</style>\n",
       "<div class=\"ansiout\"></div>"
      ]
     },
     "metadata": {
      "application/vnd.databricks.v1+output": {
       "addedWidgets": {},
       "arguments": {},
       "data": "<div class=\"ansiout\"></div>",
       "datasetInfos": [],
       "removedWidgets": [],
       "type": "html"
      }
     },
     "output_type": "display_data"
    }
   ],
   "source": [
    "#From sql function gettig all the columns whith the help of col obejct\n",
    "from pyspark.sql.functions import col\n",
    "new_data=df1.select(*(col(c).cast('float').alias(c) for c in df1.columns))"
   ]
  },
  {
   "cell_type": "code",
   "execution_count": 0,
   "metadata": {
    "application/vnd.databricks.v1+cell": {
     "inputWidgets": {},
     "nuid": "db7cb63f-7b0b-4f90-9023-fcb98ef22d30",
     "showTitle": false,
     "title": ""
    }
   },
   "outputs": [
    {
     "data": {
      "text/html": [
       "<style scoped>\n",
       "  .ansiout {\n",
       "    display: block;\n",
       "    unicode-bidi: embed;\n",
       "    white-space: pre-wrap;\n",
       "    word-wrap: break-word;\n",
       "    word-break: break-all;\n",
       "    font-family: \"Source Code Pro\", \"Menlo\", monospace;;\n",
       "    font-size: 13px;\n",
       "    color: #555;\n",
       "    margin-left: 4px;\n",
       "    line-height: 19px;\n",
       "  }\n",
       "</style>\n",
       "<div class=\"ansiout\">root\n",
       "-- GRE Score: float (nullable = true)\n",
       "-- TOEFL Score: float (nullable = true)\n",
       "-- University Rating: float (nullable = true)\n",
       "-- SOP: float (nullable = true)\n",
       "-- LOR: float (nullable = true)\n",
       "-- CGPA: float (nullable = true)\n",
       "-- Research: float (nullable = true)\n",
       "-- Chance of Admit: float (nullable = true)\n",
       "\n",
       "</div>"
      ]
     },
     "metadata": {
      "application/vnd.databricks.v1+output": {
       "addedWidgets": {},
       "arguments": {},
       "data": "<div class=\"ansiout\">root\n |-- GRE Score: float (nullable = true)\n |-- TOEFL Score: float (nullable = true)\n |-- University Rating: float (nullable = true)\n |-- SOP: float (nullable = true)\n |-- LOR: float (nullable = true)\n |-- CGPA: float (nullable = true)\n |-- Research: float (nullable = true)\n |-- Chance of Admit: float (nullable = true)\n\n</div>",
       "datasetInfos": [],
       "removedWidgets": [],
       "type": "html"
      }
     },
     "output_type": "display_data"
    }
   ],
   "source": [
    "#Printschema to get the info of the data type of the each variable and null values count (Bollian True or False)\n",
    "new_data.printSchema()"
   ]
  },
  {
   "cell_type": "code",
   "execution_count": 0,
   "metadata": {
    "application/vnd.databricks.v1+cell": {
     "inputWidgets": {},
     "nuid": "13090d3b-72eb-46c1-951c-245201d8ce38",
     "showTitle": false,
     "title": ""
    }
   },
   "outputs": [
    {
     "data": {
      "text/html": [
       "<style scoped>\n",
       "  .ansiout {\n",
       "    display: block;\n",
       "    unicode-bidi: embed;\n",
       "    white-space: pre-wrap;\n",
       "    word-wrap: break-word;\n",
       "    word-break: break-all;\n",
       "    font-family: \"Source Code Pro\", \"Menlo\", monospace;;\n",
       "    font-size: 13px;\n",
       "    color: #555;\n",
       "    margin-left: 4px;\n",
       "    line-height: 19px;\n",
       "  }\n",
       "</style>\n",
       "<div class=\"ansiout\">+---------+-----------+-----------------+---+---+----+--------+---------------+\n",
       "GRE Score|TOEFL Score|University Rating|SOP|LOR|CGPA|Research|Chance of Admit|\n",
       "+---------+-----------+-----------------+---+---+----+--------+---------------+\n",
       "       15|         10|               15|  0|  0|   0|       0|              0|\n",
       "+---------+-----------+-----------------+---+---+----+--------+---------------+\n",
       "\n",
       "</div>"
      ]
     },
     "metadata": {
      "application/vnd.databricks.v1+output": {
       "addedWidgets": {},
       "arguments": {},
       "data": "<div class=\"ansiout\">+---------+-----------+-----------------+---+---+----+--------+---------------+\n|GRE Score|TOEFL Score|University Rating|SOP|LOR|CGPA|Research|Chance of Admit|\n+---------+-----------+-----------------+---+---+----+--------+---------------+\n|       15|         10|               15|  0|  0|   0|       0|              0|\n+---------+-----------+-----------------+---+---+----+--------+---------------+\n\n</div>",
       "datasetInfos": [],
       "removedWidgets": [],
       "type": "html"
      }
     },
     "output_type": "display_data"
    }
   ],
   "source": [
    "#Check for null values are present in the data\n",
    "from pyspark.sql.functions import col, when , count, isnan\n",
    "new_data.select([count(when(col(c).isNull(),c)).alias(c) for c in df1.columns]).show()"
   ]
  },
  {
   "cell_type": "code",
   "execution_count": 0,
   "metadata": {
    "application/vnd.databricks.v1+cell": {
     "inputWidgets": {},
     "nuid": "ab7d7444-db39-4ef8-93bd-9afe056965f5",
     "showTitle": false,
     "title": ""
    }
   },
   "outputs": [
    {
     "data": {
      "text/html": [
       "<style scoped>\n",
       "  .ansiout {\n",
       "    display: block;\n",
       "    unicode-bidi: embed;\n",
       "    white-space: pre-wrap;\n",
       "    word-wrap: break-word;\n",
       "    word-break: break-all;\n",
       "    font-family: \"Source Code Pro\", \"Menlo\", monospace;;\n",
       "    font-size: 13px;\n",
       "    color: #555;\n",
       "    margin-left: 4px;\n",
       "    line-height: 19px;\n",
       "  }\n",
       "</style>\n",
       "<div class=\"ansiout\"></div>"
      ]
     },
     "metadata": {
      "application/vnd.databricks.v1+output": {
       "addedWidgets": {},
       "arguments": {},
       "data": "<div class=\"ansiout\"></div>",
       "datasetInfos": [],
       "removedWidgets": [],
       "type": "html"
      }
     },
     "output_type": "display_data"
    }
   ],
   "source": [
    "#impute the null values \n",
    "from pyspark.ml.feature import Imputer\n",
    "imputer=Imputer(inputCols=[\"GRE Score\",\"TOEFL Score\",\"University Rating\"],\n",
    "                       outputCols=[\"GRE Score\",\"TOEFL Score\",\"University Rating\"])\n",
    "model=imputer.fit(new_data)\n",
    "\n",
    "imputed_data=model.transform(new_data)"
   ]
  },
  {
   "cell_type": "code",
   "execution_count": 0,
   "metadata": {
    "application/vnd.databricks.v1+cell": {
     "inputWidgets": {},
     "nuid": "09c5775d-8b8e-43ec-a247-da186436fbb0",
     "showTitle": false,
     "title": ""
    }
   },
   "outputs": [
    {
     "data": {
      "text/html": [
       "<style scoped>\n",
       "  .ansiout {\n",
       "    display: block;\n",
       "    unicode-bidi: embed;\n",
       "    white-space: pre-wrap;\n",
       "    word-wrap: break-word;\n",
       "    word-break: break-all;\n",
       "    font-family: \"Source Code Pro\", \"Menlo\", monospace;;\n",
       "    font-size: 13px;\n",
       "    color: #555;\n",
       "    margin-left: 4px;\n",
       "    line-height: 19px;\n",
       "  }\n",
       "</style>\n",
       "<div class=\"ansiout\">+---------+-----------+-----------------+---+---+----+--------+---------------+\n",
       "GRE Score|TOEFL Score|University Rating|SOP|LOR|CGPA|Research|Chance of Admit|\n",
       "+---------+-----------+-----------------+---+---+----+--------+---------------+\n",
       "        0|          0|                0|  0|  0|   0|       0|              0|\n",
       "+---------+-----------+-----------------+---+---+----+--------+---------------+\n",
       "\n",
       "</div>"
      ]
     },
     "metadata": {
      "application/vnd.databricks.v1+output": {
       "addedWidgets": {},
       "arguments": {},
       "data": "<div class=\"ansiout\">+---------+-----------+-----------------+---+---+----+--------+---------------+\n|GRE Score|TOEFL Score|University Rating|SOP|LOR|CGPA|Research|Chance of Admit|\n+---------+-----------+-----------------+---+---+----+--------+---------------+\n|        0|          0|                0|  0|  0|   0|       0|              0|\n+---------+-----------+-----------------+---+---+----+--------+---------------+\n\n</div>",
       "datasetInfos": [],
       "removedWidgets": [],
       "type": "html"
      }
     },
     "output_type": "display_data"
    }
   ],
   "source": [
    "imputed_data.select([count(when(col(c).isNull(),c)).alias(c) for c in new_data.columns]).show()"
   ]
  },
  {
   "cell_type": "code",
   "execution_count": 0,
   "metadata": {
    "application/vnd.databricks.v1+cell": {
     "inputWidgets": {},
     "nuid": "f8d11f13-f125-411e-9975-82f68de96624",
     "showTitle": false,
     "title": ""
    }
   },
   "outputs": [
    {
     "data": {
      "text/html": [
       "<style scoped>\n",
       "  .ansiout {\n",
       "    display: block;\n",
       "    unicode-bidi: embed;\n",
       "    white-space: pre-wrap;\n",
       "    word-wrap: break-word;\n",
       "    word-break: break-all;\n",
       "    font-family: \"Source Code Pro\", \"Menlo\", monospace;;\n",
       "    font-size: 13px;\n",
       "    color: #555;\n",
       "    margin-left: 4px;\n",
       "    line-height: 19px;\n",
       "  }\n",
       "</style>\n",
       "<div class=\"ansiout\">+---------+-----------+-----------------+---+---+----+--------+---------------+\n",
       "GRE Score|TOEFL Score|University Rating|SOP|LOR|CGPA|Research|Chance of Admit|\n",
       "+---------+-----------+-----------------+---+---+----+--------+---------------+\n",
       "    337.0|      118.0|              4.0|4.5|4.5|9.65|     1.0|           0.92|\n",
       "    324.0|      107.0|              4.0|4.0|4.5|8.87|     1.0|           0.76|\n",
       "316.55878|      104.0|              3.0|3.0|3.5| 8.0|     1.0|           0.72|\n",
       "    322.0|      110.0|              3.0|3.5|2.5|8.67|     1.0|            0.8|\n",
       "    314.0|      103.0|              2.0|2.0|3.0|8.21|     0.0|           0.65|\n",
       "+---------+-----------+-----------------+---+---+----+--------+---------------+\n",
       "only showing top 5 rows\n",
       "\n",
       "</div>"
      ]
     },
     "metadata": {
      "application/vnd.databricks.v1+output": {
       "addedWidgets": {},
       "arguments": {},
       "data": "<div class=\"ansiout\">+---------+-----------+-----------------+---+---+----+--------+---------------+\n|GRE Score|TOEFL Score|University Rating|SOP|LOR|CGPA|Research|Chance of Admit|\n+---------+-----------+-----------------+---+---+----+--------+---------------+\n|    337.0|      118.0|              4.0|4.5|4.5|9.65|     1.0|           0.92|\n|    324.0|      107.0|              4.0|4.0|4.5|8.87|     1.0|           0.76|\n|316.55878|      104.0|              3.0|3.0|3.5| 8.0|     1.0|           0.72|\n|    322.0|      110.0|              3.0|3.5|2.5|8.67|     1.0|            0.8|\n|    314.0|      103.0|              2.0|2.0|3.0|8.21|     0.0|           0.65|\n+---------+-----------+-----------------+---+---+----+--------+---------------+\nonly showing top 5 rows\n\n</div>",
       "datasetInfos": [],
       "removedWidgets": [],
       "type": "html"
      }
     },
     "output_type": "display_data"
    }
   ],
   "source": [
    "imputed_data.show(5)"
   ]
  },
  {
   "cell_type": "code",
   "execution_count": 0,
   "metadata": {
    "application/vnd.databricks.v1+cell": {
     "inputWidgets": {},
     "nuid": "5e850873-d69b-4a49-a7a8-c25a2452526d",
     "showTitle": false,
     "title": ""
    }
   },
   "outputs": [
    {
     "data": {
      "text/html": [
       "<style scoped>\n",
       "  .ansiout {\n",
       "    display: block;\n",
       "    unicode-bidi: embed;\n",
       "    white-space: pre-wrap;\n",
       "    word-wrap: break-word;\n",
       "    word-break: break-all;\n",
       "    font-family: \"Source Code Pro\", \"Menlo\", monospace;;\n",
       "    font-size: 13px;\n",
       "    color: #555;\n",
       "    margin-left: 4px;\n",
       "    line-height: 19px;\n",
       "  }\n",
       "</style>\n",
       "<div class=\"ansiout\">+---------+-----------+-----------------+---+---+----+--------+\n",
       "GRE Score|TOEFL Score|University Rating|SOP|LOR|CGPA|Research|\n",
       "+---------+-----------+-----------------+---+---+----+--------+\n",
       "    337.0|      118.0|              4.0|4.5|4.5|9.65|     1.0|\n",
       "    324.0|      107.0|              4.0|4.0|4.5|8.87|     1.0|\n",
       "316.55878|      104.0|              3.0|3.0|3.5| 8.0|     1.0|\n",
       "    322.0|      110.0|              3.0|3.5|2.5|8.67|     1.0|\n",
       "    314.0|      103.0|              2.0|2.0|3.0|8.21|     0.0|\n",
       "+---------+-----------+-----------------+---+---+----+--------+\n",
       "only showing top 5 rows\n",
       "\n",
       "</div>"
      ]
     },
     "metadata": {
      "application/vnd.databricks.v1+output": {
       "addedWidgets": {},
       "arguments": {},
       "data": "<div class=\"ansiout\">+---------+-----------+-----------------+---+---+----+--------+\n|GRE Score|TOEFL Score|University Rating|SOP|LOR|CGPA|Research|\n+---------+-----------+-----------------+---+---+----+--------+\n|    337.0|      118.0|              4.0|4.5|4.5|9.65|     1.0|\n|    324.0|      107.0|              4.0|4.0|4.5|8.87|     1.0|\n|316.55878|      104.0|              3.0|3.0|3.5| 8.0|     1.0|\n|    322.0|      110.0|              3.0|3.5|2.5|8.67|     1.0|\n|    314.0|      103.0|              2.0|2.0|3.0|8.21|     0.0|\n+---------+-----------+-----------------+---+---+----+--------+\nonly showing top 5 rows\n\n</div>",
       "datasetInfos": [],
       "removedWidgets": [],
       "type": "html"
      }
     },
     "output_type": "display_data"
    }
   ],
   "source": [
    "#Split the data in to x and y\n",
    "features = imputed_data.drop('Chance of Admit')\n",
    "features.show(5)"
   ]
  },
  {
   "cell_type": "code",
   "execution_count": 0,
   "metadata": {
    "application/vnd.databricks.v1+cell": {
     "inputWidgets": {},
     "nuid": "39614082-fefc-45d4-aa5e-4a805e2fbd09",
     "showTitle": false,
     "title": ""
    }
   },
   "outputs": [
    {
     "data": {
      "text/html": [
       "<style scoped>\n",
       "  .ansiout {\n",
       "    display: block;\n",
       "    unicode-bidi: embed;\n",
       "    white-space: pre-wrap;\n",
       "    word-wrap: break-word;\n",
       "    word-break: break-all;\n",
       "    font-family: \"Source Code Pro\", \"Menlo\", monospace;;\n",
       "    font-size: 13px;\n",
       "    color: #555;\n",
       "    margin-left: 4px;\n",
       "    line-height: 19px;\n",
       "  }\n",
       "</style>\n",
       "<div class=\"ansiout\"></div>"
      ]
     },
     "metadata": {
      "application/vnd.databricks.v1+output": {
       "addedWidgets": {},
       "arguments": {},
       "data": "<div class=\"ansiout\"></div>",
       "datasetInfos": [],
       "removedWidgets": [],
       "type": "html"
      }
     },
     "output_type": "display_data"
    }
   ],
   "source": [
    "#Let's assemble all the columns are together\n",
    "assemble= VectorAssembler(inputCols=features.columns,\n",
    "                         outputCol=\"features\")"
   ]
  },
  {
   "cell_type": "code",
   "execution_count": 0,
   "metadata": {
    "application/vnd.databricks.v1+cell": {
     "inputWidgets": {},
     "nuid": "e8f1235c-0bc5-42fe-a186-85854bc343ee",
     "showTitle": false,
     "title": ""
    }
   },
   "outputs": [
    {
     "data": {
      "text/html": [
       "<style scoped>\n",
       "  .ansiout {\n",
       "    display: block;\n",
       "    unicode-bidi: embed;\n",
       "    white-space: pre-wrap;\n",
       "    word-wrap: break-word;\n",
       "    word-break: break-all;\n",
       "    font-family: \"Source Code Pro\", \"Menlo\", monospace;;\n",
       "    font-size: 13px;\n",
       "    color: #555;\n",
       "    margin-left: 4px;\n",
       "    line-height: 19px;\n",
       "  }\n",
       "</style>\n",
       "<div class=\"ansiout\"></div>"
      ]
     },
     "metadata": {
      "application/vnd.databricks.v1+output": {
       "addedWidgets": {},
       "arguments": {},
       "data": "<div class=\"ansiout\"></div>",
       "datasetInfos": [],
       "removedWidgets": [],
       "type": "html"
      }
     },
     "output_type": "display_data"
    }
   ],
   "source": [
    "output=assemble.transform(imputed_data)"
   ]
  },
  {
   "cell_type": "code",
   "execution_count": 0,
   "metadata": {
    "application/vnd.databricks.v1+cell": {
     "inputWidgets": {},
     "nuid": "ab953cc5-7dc4-40e2-adbc-65d4472162ae",
     "showTitle": false,
     "title": ""
    }
   },
   "outputs": [
    {
     "data": {
      "text/html": [
       "<style scoped>\n",
       "  .ansiout {\n",
       "    display: block;\n",
       "    unicode-bidi: embed;\n",
       "    white-space: pre-wrap;\n",
       "    word-wrap: break-word;\n",
       "    word-break: break-all;\n",
       "    font-family: \"Source Code Pro\", \"Menlo\", monospace;;\n",
       "    font-size: 13px;\n",
       "    color: #555;\n",
       "    margin-left: 4px;\n",
       "    line-height: 19px;\n",
       "  }\n",
       "</style>\n",
       "<div class=\"ansiout\">+--------------------+---------------+\n",
       "            features|Chance of Admit|\n",
       "+--------------------+---------------+\n",
       "[337.0,118.0,4.0,...|           0.92|\n",
       "[324.0,107.0,4.0,...|           0.76|\n",
       "[316.558776855468...|           0.72|\n",
       "[322.0,110.0,3.0,...|            0.8|\n",
       "[314.0,103.0,2.0,...|           0.65|\n",
       "+--------------------+---------------+\n",
       "only showing top 5 rows\n",
       "\n",
       "</div>"
      ]
     },
     "metadata": {
      "application/vnd.databricks.v1+output": {
       "addedWidgets": {},
       "arguments": {},
       "data": "<div class=\"ansiout\">+--------------------+---------------+\n|            features|Chance of Admit|\n+--------------------+---------------+\n|[337.0,118.0,4.0,...|           0.92|\n|[324.0,107.0,4.0,...|           0.76|\n|[316.558776855468...|           0.72|\n|[322.0,110.0,3.0,...|            0.8|\n|[314.0,103.0,2.0,...|           0.65|\n+--------------------+---------------+\nonly showing top 5 rows\n\n</div>",
       "datasetInfos": [],
       "removedWidgets": [],
       "type": "html"
      }
     },
     "output_type": "display_data"
    }
   ],
   "source": [
    "output=output.select(\"features\",\"Chance of Admit\")\n",
    "output.show(5)"
   ]
  },
  {
   "cell_type": "code",
   "execution_count": 0,
   "metadata": {
    "application/vnd.databricks.v1+cell": {
     "inputWidgets": {},
     "nuid": "29439024-5e09-421b-b3a6-ea744def9eb3",
     "showTitle": false,
     "title": ""
    }
   },
   "outputs": [
    {
     "data": {
      "text/html": [
       "<style scoped>\n",
       "  .ansiout {\n",
       "    display: block;\n",
       "    unicode-bidi: embed;\n",
       "    white-space: pre-wrap;\n",
       "    word-wrap: break-word;\n",
       "    word-break: break-all;\n",
       "    font-family: \"Source Code Pro\", \"Menlo\", monospace;;\n",
       "    font-size: 13px;\n",
       "    color: #555;\n",
       "    margin-left: 4px;\n",
       "    line-height: 19px;\n",
       "  }\n",
       "</style>\n",
       "<div class=\"ansiout\"></div>"
      ]
     },
     "metadata": {
      "application/vnd.databricks.v1+output": {
       "addedWidgets": {},
       "arguments": {},
       "data": "<div class=\"ansiout\"></div>",
       "datasetInfos": [],
       "removedWidgets": [],
       "type": "html"
      }
     },
     "output_type": "display_data"
    }
   ],
   "source": [
    "train_df,test_df=output.randomSplit([0.7,0.3])"
   ]
  },
  {
   "cell_type": "code",
   "execution_count": 0,
   "metadata": {
    "application/vnd.databricks.v1+cell": {
     "inputWidgets": {},
     "nuid": "6f4c7212-b084-4a9e-9625-682e68dd16ef",
     "showTitle": false,
     "title": ""
    }
   },
   "outputs": [
    {
     "data": {
      "text/html": [
       "<style scoped>\n",
       "  .ansiout {\n",
       "    display: block;\n",
       "    unicode-bidi: embed;\n",
       "    white-space: pre-wrap;\n",
       "    word-wrap: break-word;\n",
       "    word-break: break-all;\n",
       "    font-family: \"Source Code Pro\", \"Menlo\", monospace;;\n",
       "    font-size: 13px;\n",
       "    color: #555;\n",
       "    margin-left: 4px;\n",
       "    line-height: 19px;\n",
       "  }\n",
       "</style>\n",
       "<div class=\"ansiout\">+--------------------+---------------+\n",
       "            features|Chance of Admit|\n",
       "+--------------------+---------------+\n",
       "[290.0,104.0,4.0,...|           0.45|\n",
       "[294.0,93.0,1.0,1...|           0.46|\n",
       "[295.0,93.0,1.0,2...|           0.46|\n",
       "[295.0,96.0,2.0,1...|           0.47|\n",
       "[295.0,99.0,1.0,2...|           0.37|\n",
       "+--------------------+---------------+\n",
       "only showing top 5 rows\n",
       "\n",
       "+--------------------+---------------+\n",
       "            features|Chance of Admit|\n",
       "+--------------------+---------------+\n",
       "[290.0,100.0,1.0,...|           0.47|\n",
       "[293.0,97.0,2.0,2...|           0.64|\n",
       "[294.0,95.0,1.0,1...|           0.49|\n",
       "[295.0,99.0,2.0,2...|           0.57|\n",
       "[296.0,97.0,2.0,1...|           0.49|\n",
       "+--------------------+---------------+\n",
       "only showing top 5 rows\n",
       "\n",
       "</div>"
      ]
     },
     "metadata": {
      "application/vnd.databricks.v1+output": {
       "addedWidgets": {},
       "arguments": {},
       "data": "<div class=\"ansiout\">+--------------------+---------------+\n|            features|Chance of Admit|\n+--------------------+---------------+\n|[290.0,104.0,4.0,...|           0.45|\n|[294.0,93.0,1.0,1...|           0.46|\n|[295.0,93.0,1.0,2...|           0.46|\n|[295.0,96.0,2.0,1...|           0.47|\n|[295.0,99.0,1.0,2...|           0.37|\n+--------------------+---------------+\nonly showing top 5 rows\n\n+--------------------+---------------+\n|            features|Chance of Admit|\n+--------------------+---------------+\n|[290.0,100.0,1.0,...|           0.47|\n|[293.0,97.0,2.0,2...|           0.64|\n|[294.0,95.0,1.0,1...|           0.49|\n|[295.0,99.0,2.0,2...|           0.57|\n|[296.0,97.0,2.0,1...|           0.49|\n+--------------------+---------------+\nonly showing top 5 rows\n\n</div>",
       "datasetInfos": [],
       "removedWidgets": [],
       "type": "html"
      }
     },
     "output_type": "display_data"
    }
   ],
   "source": [
    "train_df.show(5)\n",
    "test_df.show(5)"
   ]
  },
  {
   "cell_type": "code",
   "execution_count": 0,
   "metadata": {
    "application/vnd.databricks.v1+cell": {
     "inputWidgets": {},
     "nuid": "c3659922-3b60-4714-b74a-dde28a042171",
     "showTitle": false,
     "title": ""
    }
   },
   "outputs": [
    {
     "data": {
      "text/html": [
       "<style scoped>\n",
       "  .ansiout {\n",
       "    display: block;\n",
       "    unicode-bidi: embed;\n",
       "    white-space: pre-wrap;\n",
       "    word-wrap: break-word;\n",
       "    word-break: break-all;\n",
       "    font-family: \"Source Code Pro\", \"Menlo\", monospace;;\n",
       "    font-size: 13px;\n",
       "    color: #555;\n",
       "    margin-left: 4px;\n",
       "    line-height: 19px;\n",
       "  }\n",
       "</style>\n",
       "<div class=\"ansiout\"></div>"
      ]
     },
     "metadata": {
      "application/vnd.databricks.v1+output": {
       "addedWidgets": {},
       "arguments": {},
       "data": "<div class=\"ansiout\"></div>",
       "datasetInfos": [],
       "removedWidgets": [],
       "type": "html"
      }
     },
     "output_type": "display_data"
    }
   ],
   "source": [
    "linear_reg=LinearRegression(featuresCol=\"features\",labelCol=\"Chance of Admit\")\n",
    "linear_model=linear_reg.fit(train_df)"
   ]
  },
  {
   "cell_type": "code",
   "execution_count": 0,
   "metadata": {
    "application/vnd.databricks.v1+cell": {
     "inputWidgets": {},
     "nuid": "0321f1fe-7a0d-4dff-ac98-910c06493708",
     "showTitle": false,
     "title": ""
    }
   },
   "outputs": [
    {
     "data": {
      "text/html": [
       "<style scoped>\n",
       "  .ansiout {\n",
       "    display: block;\n",
       "    unicode-bidi: embed;\n",
       "    white-space: pre-wrap;\n",
       "    word-wrap: break-word;\n",
       "    word-break: break-all;\n",
       "    font-family: \"Source Code Pro\", \"Menlo\", monospace;;\n",
       "    font-size: 13px;\n",
       "    color: #555;\n",
       "    margin-left: 4px;\n",
       "    line-height: 19px;\n",
       "  }\n",
       "</style>\n",
       "<div class=\"ansiout\">Coefficients:  0.0016884199917549998\n",
       "Intercept:  -1.2226103674198092\n",
       "</div>"
      ]
     },
     "metadata": {
      "application/vnd.databricks.v1+output": {
       "addedWidgets": {},
       "arguments": {},
       "data": "<div class=\"ansiout\">Coefficients:  0.0016884199917549998\nIntercept:  -1.2226103674198092\n</div>",
       "datasetInfos": [],
       "removedWidgets": [],
       "type": "html"
      }
     },
     "output_type": "display_data"
    }
   ],
   "source": [
    "print(\"Coefficients: \",linear_model.coefficients[0])\n",
    "print(\"Intercept: \",linear_model.intercept)"
   ]
  },
  {
   "cell_type": "code",
   "execution_count": 0,
   "metadata": {
    "application/vnd.databricks.v1+cell": {
     "inputWidgets": {},
     "nuid": "7ae833c7-2613-491d-aa84-8c1a4057f813",
     "showTitle": false,
     "title": ""
    }
   },
   "outputs": [
    {
     "data": {
      "text/html": [
       "<style scoped>\n",
       "  .ansiout {\n",
       "    display: block;\n",
       "    unicode-bidi: embed;\n",
       "    white-space: pre-wrap;\n",
       "    word-wrap: break-word;\n",
       "    word-break: break-all;\n",
       "    font-family: \"Source Code Pro\", \"Menlo\", monospace;;\n",
       "    font-size: 13px;\n",
       "    color: #555;\n",
       "    margin-left: 4px;\n",
       "    line-height: 19px;\n",
       "  }\n",
       "</style>\n",
       "<div class=\"ansiout\">RMSE: 0.056975\n",
       "R2:  0.826373\n",
       "MAE: 0.041186 \n",
       "</div>"
      ]
     },
     "metadata": {
      "application/vnd.databricks.v1+output": {
       "addedWidgets": {},
       "arguments": {},
       "data": "<div class=\"ansiout\">RMSE: 0.056975\nR2:  0.826373\nMAE: 0.041186 \n</div>",
       "datasetInfos": [],
       "removedWidgets": [],
       "type": "html"
      }
     },
     "output_type": "display_data"
    }
   ],
   "source": [
    "train_summary=linear_model.summary\n",
    "print(\"RMSE: %f\" % train_summary.rootMeanSquaredError)\n",
    "print('R2:  %f' % train_summary.r2)\n",
    "print(\"MAE: %f \" % train_summary.meanAbsoluteError)"
   ]
  },
  {
   "cell_type": "code",
   "execution_count": 0,
   "metadata": {
    "application/vnd.databricks.v1+cell": {
     "inputWidgets": {},
     "nuid": "632c00f7-04b8-4b0b-8473-8a6584675bc9",
     "showTitle": false,
     "title": ""
    }
   },
   "outputs": [
    {
     "data": {
      "text/html": [
       "<style scoped>\n",
       "  .ansiout {\n",
       "    display: block;\n",
       "    unicode-bidi: embed;\n",
       "    white-space: pre-wrap;\n",
       "    word-wrap: break-word;\n",
       "    word-break: break-all;\n",
       "    font-family: \"Source Code Pro\", \"Menlo\", monospace;;\n",
       "    font-size: 13px;\n",
       "    color: #555;\n",
       "    margin-left: 4px;\n",
       "    line-height: 19px;\n",
       "  }\n",
       "</style>\n",
       "<div class=\"ansiout\">+-------------------+---------------+--------------------+\n",
       "         prediction|Chance of Admit|            features|\n",
       "+-------------------+---------------+--------------------+\n",
       " 0.4835771714325814|           0.47|[290.0,100.0,1.0,...|\n",
       "  0.579312332649824|           0.64|[293.0,97.0,2.0,2...|\n",
       " 0.4792021134413895|           0.49|[294.0,95.0,1.0,1...|\n",
       "  0.522553744076059|           0.57|[295.0,99.0,2.0,2...|\n",
       " 0.5185173435945782|           0.49|[296.0,97.0,2.0,1...|\n",
       " 0.5227331351343294|           0.43|[297.0,96.0,2.0,2...|\n",
       " 0.5610116888977366|           0.54|[297.0,99.0,4.0,3...|\n",
       " 0.5751559290533401|           0.34|[298.0,98.0,2.0,4...|\n",
       "  0.617830416130619|           0.58|[298.0,100.0,3.0,...|\n",
       " 0.5284087082043629|           0.54|[299.0,96.0,2.0,1...|\n",
       " 0.5391530732905667|           0.59|[299.0,100.0,1.0,...|\n",
       " 0.5622241488349049|           0.63|[299.0,100.0,3.0,...|\n",
       " 0.5054840802536205|           0.42|[299.0,100.0,3.0,...|\n",
       "  0.670430713716812|           0.56|[299.0,102.0,3.0,...|\n",
       " 0.5612414174672427|           0.61|[300.0,98.0,1.0,2...|\n",
       "0.43982203504694684|           0.36|[300.0,99.0,1.0,3...|\n",
       "  0.690222537513111|           0.64|[300.0,100.0,3.0,...|\n",
       " 0.6210307492361336|           0.62|[300.0,100.0,3.12...|\n",
       " 0.6113391459391742|           0.71|[300.0,104.0,3.0,...|\n",
       " 0.5289980336434388|           0.54|[301.0,96.0,1.0,3...|\n",
       "+-------------------+---------------+--------------------+\n",
       "only showing top 20 rows\n",
       "\n",
       "</div>"
      ]
     },
     "metadata": {
      "application/vnd.databricks.v1+output": {
       "addedWidgets": {},
       "arguments": {},
       "data": "<div class=\"ansiout\">+-------------------+---------------+--------------------+\n|         prediction|Chance of Admit|            features|\n+-------------------+---------------+--------------------+\n| 0.4835771714325814|           0.47|[290.0,100.0,1.0,...|\n|  0.579312332649824|           0.64|[293.0,97.0,2.0,2...|\n| 0.4792021134413895|           0.49|[294.0,95.0,1.0,1...|\n|  0.522553744076059|           0.57|[295.0,99.0,2.0,2...|\n| 0.5185173435945782|           0.49|[296.0,97.0,2.0,1...|\n| 0.5227331351343294|           0.43|[297.0,96.0,2.0,2...|\n| 0.5610116888977366|           0.54|[297.0,99.0,4.0,3...|\n| 0.5751559290533401|           0.34|[298.0,98.0,2.0,4...|\n|  0.617830416130619|           0.58|[298.0,100.0,3.0,...|\n| 0.5284087082043629|           0.54|[299.0,96.0,2.0,1...|\n| 0.5391530732905667|           0.59|[299.0,100.0,1.0,...|\n| 0.5622241488349049|           0.63|[299.0,100.0,3.0,...|\n| 0.5054840802536205|           0.42|[299.0,100.0,3.0,...|\n|  0.670430713716812|           0.56|[299.0,102.0,3.0,...|\n| 0.5612414174672427|           0.61|[300.0,98.0,1.0,2...|\n|0.43982203504694684|           0.36|[300.0,99.0,1.0,3...|\n|  0.690222537513111|           0.64|[300.0,100.0,3.0,...|\n| 0.6210307492361336|           0.62|[300.0,100.0,3.12...|\n| 0.6113391459391742|           0.71|[300.0,104.0,3.0,...|\n| 0.5289980336434388|           0.54|[301.0,96.0,1.0,3...|\n+-------------------+---------------+--------------------+\nonly showing top 20 rows\n\n</div>",
       "datasetInfos": [],
       "removedWidgets": [],
       "type": "html"
      }
     },
     "output_type": "display_data"
    }
   ],
   "source": [
    "#predictions\n",
    "prediction=linear_model.transform(test_df)\n",
    "prediction.select(\"prediction\",\"Chance of Admit\",\"features\").show()"
   ]
  },
  {
   "cell_type": "code",
   "execution_count": 0,
   "metadata": {
    "application/vnd.databricks.v1+cell": {
     "inputWidgets": {},
     "nuid": "8f041ad6-7ed5-4f70-b1f6-37474d4fc6da",
     "showTitle": false,
     "title": ""
    }
   },
   "outputs": [
    {
     "data": {
      "text/html": [
       "<style scoped>\n",
       "  .ansiout {\n",
       "    display: block;\n",
       "    unicode-bidi: embed;\n",
       "    white-space: pre-wrap;\n",
       "    word-wrap: break-word;\n",
       "    word-break: break-all;\n",
       "    font-family: \"Source Code Pro\", \"Menlo\", monospace;;\n",
       "    font-size: 13px;\n",
       "    color: #555;\n",
       "    margin-left: 4px;\n",
       "    line-height: 19px;\n",
       "  }\n",
       "</style>\n",
       "<div class=\"ansiout\">R2 error (r2) is found to be 0.807215\n",
       "</div>"
      ]
     },
     "metadata": {
      "application/vnd.databricks.v1+output": {
       "addedWidgets": {},
       "arguments": {},
       "data": "<div class=\"ansiout\">R2 error (r2) is found to be 0.807215\n</div>",
       "datasetInfos": [],
       "removedWidgets": [],
       "type": "html"
      }
     },
     "output_type": "display_data"
    }
   ],
   "source": [
    "#Get the prediction score\n",
    "from pyspark.ml.evaluation import RegressionEvaluator\n",
    "pred_evaluater=RegressionEvaluator(predictionCol=\"prediction\",\n",
    "                                  labelCol=\"Chance of Admit\",\n",
    "                                  metricName=\"r2\")\n",
    "print(\"R2 error (r2) is found to be %g\" % pred_evaluater.evaluate(prediction))"
   ]
  },
  {
   "cell_type": "code",
   "execution_count": 0,
   "metadata": {
    "application/vnd.databricks.v1+cell": {
     "inputWidgets": {},
     "nuid": "a883e6d5-24f8-4f49-a3c4-5b4b039fee22",
     "showTitle": false,
     "title": ""
    }
   },
   "outputs": [
    {
     "data": {
      "text/html": [
       "<style scoped>\n",
       "  .ansiout {\n",
       "    display: block;\n",
       "    unicode-bidi: embed;\n",
       "    white-space: pre-wrap;\n",
       "    word-wrap: break-word;\n",
       "    word-break: break-all;\n",
       "    font-family: \"Source Code Pro\", \"Menlo\", monospace;;\n",
       "    font-size: 13px;\n",
       "    color: #555;\n",
       "    margin-left: 4px;\n",
       "    line-height: 19px;\n",
       "  }\n",
       "</style>"
      ]
     },
     "metadata": {
      "application/vnd.databricks.v1+output": {
       "arguments": {},
       "data": "",
       "errorSummary": "",
       "type": "ipynbError"
      }
     },
     "output_type": "display_data"
    }
   ],
   "source": []
  }
 ],
 "metadata": {
  "application/vnd.databricks.v1+notebook": {
   "dashboards": [],
   "language": "python",
   "notebookName": "Test1",
   "notebookOrigID": 1982656779163697,
   "widgets": {}
  },
  "kernelspec": {
   "display_name": "Python 3",
   "language": "python",
   "name": "python3"
  },
  "language_info": {
   "codemirror_mode": {
    "name": "ipython",
    "version": 3
   },
   "file_extension": ".py",
   "mimetype": "text/x-python",
   "name": "python",
   "nbconvert_exporter": "python",
   "pygments_lexer": "ipython3",
   "version": "3.8.3"
  }
 },
 "nbformat": 4,
 "nbformat_minor": 1
}
